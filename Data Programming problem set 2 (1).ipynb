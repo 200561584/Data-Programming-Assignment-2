{
 "cells": [
  {
   "cell_type": "markdown",
   "id": "c49e818c",
   "metadata": {},
   "source": [
    "# Data Programming - Problem Set 2 "
   ]
  },
  {
   "cell_type": "markdown",
   "id": "eca14520",
   "metadata": {},
   "source": [
    "# Number 1"
   ]
  },
  {
   "cell_type": "code",
   "execution_count": 19,
   "id": "a25bb0b6",
   "metadata": {},
   "outputs": [],
   "source": [
    "a = 0\n",
    "def b():\n",
    " global a\n",
    " a = c(a)\n",
    "def c(a):\n",
    " return a + 2\n"
   ]
  },
  {
   "cell_type": "code",
   "execution_count": 20,
   "id": "fd5a486a",
   "metadata": {},
   "outputs": [],
   "source": [
    ">>> b()\n"
   ]
  },
  {
   "cell_type": "code",
   "execution_count": 21,
   "id": "e8f77391",
   "metadata": {},
   "outputs": [],
   "source": [
    ">>> b()\n"
   ]
  },
  {
   "cell_type": "code",
   "execution_count": 22,
   "id": "96367e0e",
   "metadata": {},
   "outputs": [],
   "source": [
    ">>> b()\n"
   ]
  },
  {
   "cell_type": "code",
   "execution_count": 23,
   "id": "35b7d4a8",
   "metadata": {},
   "outputs": [
    {
     "data": {
      "text/plain": [
       "6"
      ]
     },
     "execution_count": 23,
     "metadata": {},
     "output_type": "execute_result"
    }
   ],
   "source": [
    ">>> a\n"
   ]
  },
  {
   "cell_type": "markdown",
   "id": "d5692969",
   "metadata": {},
   "source": [
    "The first time the variable a is equal to 0\n",
    "\n",
    "When the function def b(): is first called it executes the function def c(a) which is: 0 + 2 = 2. So if the variable a is called it value will 2.\n",
    " \n",
    "When the function def b(): called the second time, it executes the function def c(a) again which is: 2 + 2 = 2, because the variable a now has the value 2. So if the variable a is called it value will 4.\n",
    "\n",
    "When the function def b(): called the third time, it executes the function def c(a) again which is: 4 + 2 = 2, because the variable a now has the value 4. So when the variable a is called it value will 6."
   ]
  },
  {
   "cell_type": "markdown",
   "id": "a7fddc1a",
   "metadata": {},
   "source": [
    "# Number 4\n",
    "Write function collatz() that takes a positive integer x as input and prints the \n",
    "Collatz sequence starting at x. A Collatz sequence is obtained by repeatedly applying \n",
    "this rule to the previous number x in the sequence:\n",
    "x = {\n",
    "𝑥/2 𝑖𝑓 𝑥 𝑖𝑠 𝑒𝑣𝑒𝑛\n",
    "3𝑥 + 1 𝑖𝑓 𝑥 𝑖𝑠 𝑜𝑑𝑑\n",
    "Your function should stop when the sequence gets to number 1. Your \n",
    "implementation must be recursive, without any loops.\n",
    "\n",
    "collatz(1)\n",
    "\n",
    "1\n",
    "\n",
    "collatz(10)\n",
    "\n",
    "10\n",
    "\n",
    "5\n",
    "\n",
    "16\n",
    "\n",
    "8\n",
    "\n",
    "4\n",
    "\n",
    "2\n",
    "\n",
    "1"
   ]
  },
  {
   "cell_type": "code",
   "execution_count": 24,
   "id": "e744107d",
   "metadata": {},
   "outputs": [],
   "source": [
    "def collatz(x):\n",
    "    print(x)\n",
    "    if x == 1:\n",
    "        return \n",
    "    elif x % 2 == 0:\n",
    "        collatz (x / 2)\n",
    "    else:\n",
    "        collatz (3 * x + 1)\n",
    "            "
   ]
  },
  {
   "cell_type": "code",
   "execution_count": 25,
   "id": "cdf25829",
   "metadata": {},
   "outputs": [
    {
     "name": "stdout",
     "output_type": "stream",
     "text": [
      "1\n"
     ]
    }
   ],
   "source": [
    "collatz(1)"
   ]
  },
  {
   "cell_type": "code",
   "execution_count": 26,
   "id": "6725913b",
   "metadata": {},
   "outputs": [
    {
     "name": "stdout",
     "output_type": "stream",
     "text": [
      "10\n",
      "5.0\n",
      "16.0\n",
      "8.0\n",
      "4.0\n",
      "2.0\n",
      "1.0\n"
     ]
    }
   ],
   "source": [
    "collatz(10)"
   ]
  },
  {
   "cell_type": "markdown",
   "id": "94966321",
   "metadata": {},
   "source": [
    "# Number 5\n",
    "Write a recursive method binary() that takes a non-negative \n",
    "integer n and prints the binary representation of integer n.\n",
    "binary(0)\n",
    "\n",
    "0\n",
    "\n",
    "binary(1)\n",
    "\n",
    "1\n",
    "\n",
    "binary(3)\n",
    "\n",
    "11\n",
    "\n",
    "binary(9)\n",
    "\n",
    "1001"
   ]
  },
  {
   "cell_type": "code",
   "execution_count": 29,
   "id": "9483eb60",
   "metadata": {},
   "outputs": [],
   "source": [
    "def binary(x):\n",
    "    if x > 1:\n",
    "        binary (x // 2)\n",
    "        print (x % 2, end='')\n"
   ]
  },
  {
   "cell_type": "code",
   "execution_count": 30,
   "id": "703eb0c7",
   "metadata": {},
   "outputs": [],
   "source": [
    "binary(0)"
   ]
  },
  {
   "cell_type": "code",
   "execution_count": 31,
   "id": "7b78cf32",
   "metadata": {},
   "outputs": [],
   "source": [
    "binary(1)"
   ]
  },
  {
   "cell_type": "markdown",
   "id": "5a8c3f24",
   "metadata": {},
   "source": [
    "# Number 2\n",
    "\n"
   ]
  },
  {
   "cell_type": "code",
   "execution_count": 16,
   "id": "b561463b",
   "metadata": {},
   "outputs": [],
   "source": [
    "def file_length(file_name):\n",
    "    try:\n",
    "        file = open(file_name)\n",
    "        contents = file.read()\n",
    "        file.close()\n",
    "        print(len(contents))\n",
    "    except FileNotFoundError:\n",
    "        print(f\"File {filename} not found.\")\n",
    "        \n",
    "\n",
    "    \n",
    "    \n"
   ]
  },
  {
   "cell_type": "code",
   "execution_count": 21,
   "id": "19104689",
   "metadata": {},
   "outputs": [
    {
     "name": "stdout",
     "output_type": "stream",
     "text": [
      "3854\n"
     ]
    }
   ],
   "source": [
    "file_length('ObesityClassification.csv')"
   ]
  },
  {
   "cell_type": "markdown",
   "id": "784a2efa",
   "metadata": {},
   "source": [
    "# Number 9"
   ]
  },
  {
   "cell_type": "code",
   "execution_count": 22,
   "id": "437429a2",
   "metadata": {},
   "outputs": [],
   "source": [
    "words = ['The', 'quick', 'brown', 'fox', 'jumps', 'over', 'the', 'lazy', 'dog']"
   ]
  },
  {
   "cell_type": "code",
   "execution_count": 23,
   "id": "0e4539ed",
   "metadata": {},
   "outputs": [
    {
     "name": "stdout",
     "output_type": "stream",
     "text": [
      "['THE', 'QUICK', 'BROWN', 'FOX', 'JUMPS', 'OVER', 'THE', 'LAZY', 'DOG']\n"
     ]
    }
   ],
   "source": [
    "new_words = [word.upper() for word in words]\n",
    "print(new_words)"
   ]
  },
  {
   "cell_type": "code",
   "execution_count": 24,
   "id": "3dc52929",
   "metadata": {},
   "outputs": [
    {
     "name": "stdout",
     "output_type": "stream",
     "text": [
      "['the', 'quick', 'brown', 'fox', 'jumps', 'over', 'the', 'lazy', 'dog']\n"
     ]
    }
   ],
   "source": [
    "new_words = [word.lower() for word in words]\n",
    "print(new_words)"
   ]
  },
  {
   "cell_type": "code",
   "execution_count": 25,
   "id": "04cdc386",
   "metadata": {},
   "outputs": [
    {
     "name": "stdout",
     "output_type": "stream",
     "text": [
      "[3, 5, 5, 3, 5, 4, 3, 4, 3]\n"
     ]
    }
   ],
   "source": [
    "word_lengths = [len(word) for word in words]\n",
    "print(word_lengths)\n"
   ]
  },
  {
   "cell_type": "code",
   "execution_count": 26,
   "id": "23db682d",
   "metadata": {},
   "outputs": [
    {
     "name": "stdout",
     "output_type": "stream",
     "text": [
      "[['THE', 'the', 3], ['QUICK', 'quick', 5], ['BROWN', 'brown', 5], ['FOX', 'fox', 3], ['JUMPS', 'jumps', 5], ['OVER', 'over', 4], ['THE', 'the', 3], ['LAZY', 'lazy', 4], ['DOG', 'dog', 3]]\n"
     ]
    }
   ],
   "source": [
    "new_words = [[word.upper(), word.lower(), len(word)] for word in words]\n",
    "print(new_words)"
   ]
  },
  {
   "cell_type": "code",
   "execution_count": 27,
   "id": "04fd45ea",
   "metadata": {},
   "outputs": [
    {
     "name": "stdout",
     "output_type": "stream",
     "text": [
      "['quick', 'brown', 'jumps', 'over', 'lazy']\n"
     ]
    }
   ],
   "source": [
    "new_words = [word for word in words if len(word) >= 4]\n",
    "print(new_words)"
   ]
  },
  {
   "cell_type": "markdown",
   "id": "e11a4b85",
   "metadata": {},
   "source": [
    "# Number 3"
   ]
  },
  {
   "cell_type": "code",
   "execution_count": 32,
   "id": "a973a527",
   "metadata": {},
   "outputs": [],
   "source": [
    "class Marsupial:\n",
    "    l=[]    \n",
    "    def put_in_pouch(self,x):\n",
    "        self.l.append(x)\n",
    "    def pouch_contents(self):\n",
    "        return self.l"
   ]
  },
  {
   "cell_type": "code",
   "execution_count": 33,
   "id": "53872a2e",
   "metadata": {},
   "outputs": [
    {
     "data": {
      "text/plain": [
       "['doll', 'firetruck', 'kitten']"
      ]
     },
     "execution_count": 33,
     "metadata": {},
     "output_type": "execute_result"
    }
   ],
   "source": [
    "x = Marsupial()\n",
    "x.put_in_pouch('doll')\n",
    "x.put_in_pouch('firetruck')\n",
    "x.put_in_pouch('kitten')\n",
    "x.pouch_contents()"
   ]
  },
  {
   "cell_type": "code",
   "execution_count": null,
   "id": "abc96f02",
   "metadata": {},
   "outputs": [],
   "source": []
  }
 ],
 "metadata": {
  "kernelspec": {
   "display_name": "Python 3 (ipykernel)",
   "language": "python",
   "name": "python3"
  },
  "language_info": {
   "codemirror_mode": {
    "name": "ipython",
    "version": 3
   },
   "file_extension": ".py",
   "mimetype": "text/x-python",
   "name": "python",
   "nbconvert_exporter": "python",
   "pygments_lexer": "ipython3",
   "version": "3.10.9"
  }
 },
 "nbformat": 4,
 "nbformat_minor": 5
}
